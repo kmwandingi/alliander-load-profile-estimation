{
 "cells": [
  {
   "cell_type": "code",
   "execution_count": 45,
   "id": "1485f6d7-05eb-4670-8dc3-18ec45b821a4",
   "metadata": {
    "tags": []
   },
   "outputs": [],
   "source": [
    "# Import necessary libraries\n",
    "import pandas as pd\n",
    "\n",
    "# Function to read a Feather file\n",
    "def read_feather_file(file_path):\n",
    "    try:\n",
    "        # Read the feather file\n",
    "        df = pd.read_feather(file_path)\n",
    "        return df\n",
    "    except Exception as e:\n",
    "        print(f\"An error occurred: {e}\")\n",
    "        return None\n",
    "\n",
    "# File paths \n",
    "# telemetry_large_consumers_file = 'telemetry_large_consumers_DCW.feather'\n",
    "standard_profiles_file = 'standard_profiles_DCW.feather'\n",
    "customer_attributes_file = 'customer_attributes_DCW.feather'\n",
    "\n",
    "# Read the files\n",
    "# telemetry_large_consumers_df = read_feather_file(telemetry_large_consumers_file)\n",
    "standard_profiles_df = read_feather_file(standard_profiles_file)\n",
    "customer_attributes_df = read_feather_file(customer_attributes_file)"
   ]
  },
  {
   "cell_type": "code",
   "execution_count": 6,
   "id": "13979e98-5869-4c93-8014-08651036a5ec",
   "metadata": {
    "tags": []
   },
   "outputs": [
    {
     "name": "stdout",
     "output_type": "stream",
     "text": [
      "Telemetry Large Consumers:\n"
     ]
    },
    {
     "data": {
      "text/html": [
       "<div>\n",
       "<style scoped>\n",
       "    .dataframe tbody tr th:only-of-type {\n",
       "        vertical-align: middle;\n",
       "    }\n",
       "\n",
       "    .dataframe tbody tr th {\n",
       "        vertical-align: top;\n",
       "    }\n",
       "\n",
       "    .dataframe thead th {\n",
       "        text-align: right;\n",
       "    }\n",
       "</style>\n",
       "<table border=\"1\" class=\"dataframe\">\n",
       "  <thead>\n",
       "    <tr style=\"text-align: right;\">\n",
       "      <th></th>\n",
       "      <th>RND_ID</th>\n",
       "      <th>2023-01-01 00:00</th>\n",
       "      <th>2023-01-01 00:15</th>\n",
       "      <th>2023-01-01 00:30</th>\n",
       "      <th>2023-01-01 00:45</th>\n",
       "      <th>2023-01-01 01:00</th>\n",
       "      <th>2023-01-01 01:15</th>\n",
       "      <th>2023-01-01 01:30</th>\n",
       "      <th>2023-01-01 01:45</th>\n",
       "      <th>2023-01-01 02:00</th>\n",
       "      <th>...</th>\n",
       "      <th>2023-12-31 21:30</th>\n",
       "      <th>2023-12-31 21:45</th>\n",
       "      <th>2023-12-31 22:00</th>\n",
       "      <th>2023-12-31 22:15</th>\n",
       "      <th>2023-12-31 22:30</th>\n",
       "      <th>2023-12-31 22:45</th>\n",
       "      <th>2023-12-31 23:00</th>\n",
       "      <th>2023-12-31 23:15</th>\n",
       "      <th>2023-12-31 23:30</th>\n",
       "      <th>2023-12-31 23:45</th>\n",
       "    </tr>\n",
       "  </thead>\n",
       "  <tbody>\n",
       "    <tr>\n",
       "      <th>0</th>\n",
       "      <td>8423</td>\n",
       "      <td>0.0</td>\n",
       "      <td>0.0</td>\n",
       "      <td>0.0</td>\n",
       "      <td>0.0</td>\n",
       "      <td>4.0</td>\n",
       "      <td>0.0</td>\n",
       "      <td>0.0</td>\n",
       "      <td>0.0</td>\n",
       "      <td>4.0</td>\n",
       "      <td>...</td>\n",
       "      <td>0.00</td>\n",
       "      <td>0.00</td>\n",
       "      <td>0.00</td>\n",
       "      <td>0.00</td>\n",
       "      <td>0.00</td>\n",
       "      <td>0.00</td>\n",
       "      <td>0.00</td>\n",
       "      <td>0.00</td>\n",
       "      <td>0.00</td>\n",
       "      <td>0.00</td>\n",
       "    </tr>\n",
       "    <tr>\n",
       "      <th>1</th>\n",
       "      <td>6756</td>\n",
       "      <td>36.0</td>\n",
       "      <td>32.0</td>\n",
       "      <td>32.0</td>\n",
       "      <td>36.0</td>\n",
       "      <td>32.0</td>\n",
       "      <td>36.0</td>\n",
       "      <td>32.0</td>\n",
       "      <td>36.0</td>\n",
       "      <td>32.0</td>\n",
       "      <td>...</td>\n",
       "      <td>35.89</td>\n",
       "      <td>35.43</td>\n",
       "      <td>34.09</td>\n",
       "      <td>33.31</td>\n",
       "      <td>30.57</td>\n",
       "      <td>29.65</td>\n",
       "      <td>32.06</td>\n",
       "      <td>29.13</td>\n",
       "      <td>28.25</td>\n",
       "      <td>27.85</td>\n",
       "    </tr>\n",
       "    <tr>\n",
       "      <th>2</th>\n",
       "      <td>1077</td>\n",
       "      <td>0.0</td>\n",
       "      <td>4.0</td>\n",
       "      <td>0.0</td>\n",
       "      <td>4.0</td>\n",
       "      <td>0.0</td>\n",
       "      <td>4.0</td>\n",
       "      <td>0.0</td>\n",
       "      <td>4.0</td>\n",
       "      <td>0.0</td>\n",
       "      <td>...</td>\n",
       "      <td>2.00</td>\n",
       "      <td>1.50</td>\n",
       "      <td>1.50</td>\n",
       "      <td>2.00</td>\n",
       "      <td>1.50</td>\n",
       "      <td>1.50</td>\n",
       "      <td>2.00</td>\n",
       "      <td>1.50</td>\n",
       "      <td>2.00</td>\n",
       "      <td>1.50</td>\n",
       "    </tr>\n",
       "    <tr>\n",
       "      <th>3</th>\n",
       "      <td>8061</td>\n",
       "      <td>16.0</td>\n",
       "      <td>8.0</td>\n",
       "      <td>12.0</td>\n",
       "      <td>8.0</td>\n",
       "      <td>12.0</td>\n",
       "      <td>16.0</td>\n",
       "      <td>12.0</td>\n",
       "      <td>12.0</td>\n",
       "      <td>12.0</td>\n",
       "      <td>...</td>\n",
       "      <td>8.40</td>\n",
       "      <td>8.80</td>\n",
       "      <td>8.80</td>\n",
       "      <td>11.00</td>\n",
       "      <td>10.19</td>\n",
       "      <td>9.19</td>\n",
       "      <td>8.80</td>\n",
       "      <td>9.00</td>\n",
       "      <td>11.00</td>\n",
       "      <td>12.40</td>\n",
       "    </tr>\n",
       "    <tr>\n",
       "      <th>4</th>\n",
       "      <td>10575</td>\n",
       "      <td>0.0</td>\n",
       "      <td>4.0</td>\n",
       "      <td>0.0</td>\n",
       "      <td>0.0</td>\n",
       "      <td>4.0</td>\n",
       "      <td>0.0</td>\n",
       "      <td>0.0</td>\n",
       "      <td>4.0</td>\n",
       "      <td>0.0</td>\n",
       "      <td>...</td>\n",
       "      <td>6.67</td>\n",
       "      <td>6.66</td>\n",
       "      <td>3.54</td>\n",
       "      <td>1.15</td>\n",
       "      <td>1.10</td>\n",
       "      <td>1.10</td>\n",
       "      <td>1.10</td>\n",
       "      <td>1.10</td>\n",
       "      <td>1.10</td>\n",
       "      <td>1.12</td>\n",
       "    </tr>\n",
       "  </tbody>\n",
       "</table>\n",
       "<p>5 rows × 35041 columns</p>\n",
       "</div>"
      ],
      "text/plain": [
       "  RND_ID  2023-01-01 00:00  2023-01-01 00:15  2023-01-01 00:30  \\\n",
       "0   8423               0.0               0.0               0.0   \n",
       "1   6756              36.0              32.0              32.0   \n",
       "2   1077               0.0               4.0               0.0   \n",
       "3   8061              16.0               8.0              12.0   \n",
       "4  10575               0.0               4.0               0.0   \n",
       "\n",
       "   2023-01-01 00:45  2023-01-01 01:00  2023-01-01 01:15  2023-01-01 01:30  \\\n",
       "0               0.0               4.0               0.0               0.0   \n",
       "1              36.0              32.0              36.0              32.0   \n",
       "2               4.0               0.0               4.0               0.0   \n",
       "3               8.0              12.0              16.0              12.0   \n",
       "4               0.0               4.0               0.0               0.0   \n",
       "\n",
       "   2023-01-01 01:45  2023-01-01 02:00  ...  2023-12-31 21:30  \\\n",
       "0               0.0               4.0  ...              0.00   \n",
       "1              36.0              32.0  ...             35.89   \n",
       "2               4.0               0.0  ...              2.00   \n",
       "3              12.0              12.0  ...              8.40   \n",
       "4               4.0               0.0  ...              6.67   \n",
       "\n",
       "   2023-12-31 21:45  2023-12-31 22:00  2023-12-31 22:15  2023-12-31 22:30  \\\n",
       "0              0.00              0.00              0.00              0.00   \n",
       "1             35.43             34.09             33.31             30.57   \n",
       "2              1.50              1.50              2.00              1.50   \n",
       "3              8.80              8.80             11.00             10.19   \n",
       "4              6.66              3.54              1.15              1.10   \n",
       "\n",
       "   2023-12-31 22:45  2023-12-31 23:00  2023-12-31 23:15  2023-12-31 23:30  \\\n",
       "0              0.00              0.00              0.00              0.00   \n",
       "1             29.65             32.06             29.13             28.25   \n",
       "2              1.50              2.00              1.50              2.00   \n",
       "3              9.19              8.80              9.00             11.00   \n",
       "4              1.10              1.10              1.10              1.10   \n",
       "\n",
       "   2023-12-31 23:45  \n",
       "0              0.00  \n",
       "1             27.85  \n",
       "2              1.50  \n",
       "3             12.40  \n",
       "4              1.12  \n",
       "\n",
       "[5 rows x 35041 columns]"
      ]
     },
     "execution_count": 6,
     "metadata": {},
     "output_type": "execute_result"
    }
   ],
   "source": [
    "# Initial Exploration\n",
    "# To understand the basic structure of the datasets, let's print the first few rows of each dataframe\n",
    "print(\"Telemetry Large Consumers:\")\n",
    "telemetry_large_consumers_df.head()"
   ]
  },
  {
   "cell_type": "code",
   "execution_count": 11,
   "id": "c88ca96e-3e0d-4f87-8c54-d7f587be44ae",
   "metadata": {
    "tags": []
   },
   "outputs": [],
   "source": [
    "import pandas as pd\n",
    "\n",
    "# **Assuming you have your 'telemetry_large_consumers_df' loaded as a pandas DataFrame**\n",
    "\n",
    "# Select the first 100 rows\n",
    "df_first_100 = telemetry_large_consumers_df.head(100)\n",
    "\n",
    "# Save as a new feather file\n",
    "df_first_100.to_feather('telemetry_first_100.feather')"
   ]
  },
  {
   "cell_type": "code",
   "execution_count": 7,
   "id": "b8d4d7a5-89eb-4e76-bc9e-335fe040e362",
   "metadata": {
    "tags": []
   },
   "outputs": [
    {
     "name": "stdout",
     "output_type": "stream",
     "text": [
      "\n",
      "Standard Profiles:\n"
     ]
    },
    {
     "data": {
      "text/html": [
       "<div>\n",
       "<style scoped>\n",
       "    .dataframe tbody tr th:only-of-type {\n",
       "        vertical-align: middle;\n",
       "    }\n",
       "\n",
       "    .dataframe tbody tr th {\n",
       "        vertical-align: top;\n",
       "    }\n",
       "\n",
       "    .dataframe thead th {\n",
       "        text-align: right;\n",
       "    }\n",
       "</style>\n",
       "<table border=\"1\" class=\"dataframe\">\n",
       "  <thead>\n",
       "    <tr style=\"text-align: right;\">\n",
       "      <th></th>\n",
       "      <th>DATUM_TIJDSTIP</th>\n",
       "      <th>PROFIEL</th>\n",
       "      <th>WAARDE</th>\n",
       "    </tr>\n",
       "  </thead>\n",
       "  <tbody>\n",
       "    <tr>\n",
       "      <th>0</th>\n",
       "      <td>2023-10-06 07:30</td>\n",
       "      <td>KVKSEGMENT_7</td>\n",
       "      <td>0.000041</td>\n",
       "    </tr>\n",
       "    <tr>\n",
       "      <th>1</th>\n",
       "      <td>2023-08-27 14:15</td>\n",
       "      <td>KVKSEGMENT_9</td>\n",
       "      <td>0.000019</td>\n",
       "    </tr>\n",
       "    <tr>\n",
       "      <th>2</th>\n",
       "      <td>2023-02-25 18:00</td>\n",
       "      <td>KVKSEGMENT_18</td>\n",
       "      <td>0.000032</td>\n",
       "    </tr>\n",
       "    <tr>\n",
       "      <th>3</th>\n",
       "      <td>2023-11-29 00:15</td>\n",
       "      <td>KVKSEGMENT_12</td>\n",
       "      <td>0.000019</td>\n",
       "    </tr>\n",
       "    <tr>\n",
       "      <th>4</th>\n",
       "      <td>2023-04-26 17:45</td>\n",
       "      <td>KVKSEGMENT_7</td>\n",
       "      <td>0.000024</td>\n",
       "    </tr>\n",
       "  </tbody>\n",
       "</table>\n",
       "</div>"
      ],
      "text/plain": [
       "     DATUM_TIJDSTIP        PROFIEL    WAARDE\n",
       "0  2023-10-06 07:30   KVKSEGMENT_7  0.000041\n",
       "1  2023-08-27 14:15   KVKSEGMENT_9  0.000019\n",
       "2  2023-02-25 18:00  KVKSEGMENT_18  0.000032\n",
       "3  2023-11-29 00:15  KVKSEGMENT_12  0.000019\n",
       "4  2023-04-26 17:45   KVKSEGMENT_7  0.000024"
      ]
     },
     "execution_count": 7,
     "metadata": {},
     "output_type": "execute_result"
    }
   ],
   "source": [
    "print(\"\\nStandard Profiles:\")\n",
    "standard_profiles_df.head()"
   ]
  },
  {
   "cell_type": "code",
   "execution_count": 8,
   "id": "f3b3236c-dc90-442c-8a3e-a934cd389a17",
   "metadata": {
    "tags": []
   },
   "outputs": [
    {
     "name": "stdout",
     "output_type": "stream",
     "text": [
      "\n",
      "Customer Attributes:\n"
     ]
    },
    {
     "data": {
      "text/html": [
       "<div>\n",
       "<style scoped>\n",
       "    .dataframe tbody tr th:only-of-type {\n",
       "        vertical-align: middle;\n",
       "    }\n",
       "\n",
       "    .dataframe tbody tr th {\n",
       "        vertical-align: top;\n",
       "    }\n",
       "\n",
       "    .dataframe thead th {\n",
       "        text-align: right;\n",
       "    }\n",
       "</style>\n",
       "<table border=\"1\" class=\"dataframe\">\n",
       "  <thead>\n",
       "    <tr style=\"text-align: right;\">\n",
       "      <th></th>\n",
       "      <th>RND_ID</th>\n",
       "      <th>BASELOAD_PROFILE</th>\n",
       "      <th>AANSLUITCATEGORIE</th>\n",
       "    </tr>\n",
       "  </thead>\n",
       "  <tbody>\n",
       "    <tr>\n",
       "      <th>0</th>\n",
       "      <td>8423</td>\n",
       "      <td>010</td>\n",
       "      <td>AC4A</td>\n",
       "    </tr>\n",
       "    <tr>\n",
       "      <th>1</th>\n",
       "      <td>6756</td>\n",
       "      <td>E3B</td>\n",
       "      <td>AC4B</td>\n",
       "    </tr>\n",
       "    <tr>\n",
       "      <th>2</th>\n",
       "      <td>1077</td>\n",
       "      <td>008</td>\n",
       "      <td>AC4A</td>\n",
       "    </tr>\n",
       "    <tr>\n",
       "      <th>3</th>\n",
       "      <td>8061</td>\n",
       "      <td>001</td>\n",
       "      <td>AC4B</td>\n",
       "    </tr>\n",
       "    <tr>\n",
       "      <th>4</th>\n",
       "      <td>10575</td>\n",
       "      <td>008</td>\n",
       "      <td>AC4B</td>\n",
       "    </tr>\n",
       "  </tbody>\n",
       "</table>\n",
       "</div>"
      ],
      "text/plain": [
       "   RND_ID BASELOAD_PROFILE AANSLUITCATEGORIE\n",
       "0    8423              010              AC4A\n",
       "1    6756              E3B              AC4B\n",
       "2    1077              008              AC4A\n",
       "3    8061              001              AC4B\n",
       "4   10575              008              AC4B"
      ]
     },
     "execution_count": 8,
     "metadata": {},
     "output_type": "execute_result"
    }
   ],
   "source": [
    "print(\"\\nCustomer Attributes:\")\n",
    "customer_attributes_df.head()"
   ]
  },
  {
   "cell_type": "code",
   "execution_count": 8,
   "id": "6ae3cf5f-c49f-4172-b7fb-f966f8a84e6e",
   "metadata": {},
   "outputs": [
    {
     "data": {
      "text/plain": [
       "array(['KVKSEGMENT_7', 'KVKSEGMENT_9', 'KVKSEGMENT_18', 'KVKSEGMENT_12',\n",
       "       'KVKSEGMENT_8', 'KVKSEGMENT_1', 'KVKSEGMENT_15', 'KVKSEGMENT_3',\n",
       "       'KVKSEGMENT_10', 'KVKSEGMENT_11', 'KVKSEGMENT_20', 'KVKSEGMENT_4',\n",
       "       'KVKSEGMENT_19', 'KVKSEGMENT_14', 'KVKSEGMENT_17', 'KVKSEGMENT_13',\n",
       "       'KVKSEGMENT_16', 'PV', 'KVKSEGMENT_5', 'KVKSEGMENT_6',\n",
       "       'KVKSEGMENT_2', 'WIND_KLEIN'], dtype=object)"
      ]
     },
     "execution_count": 8,
     "metadata": {},
     "output_type": "execute_result"
    }
   ],
   "source": [
    "standard_profiles_df['PROFILE'].unique()"
   ]
  },
  {
   "cell_type": "code",
   "execution_count": 57,
   "id": "9faaa483-8ecd-4b45-bfda-1d6e54d6c618",
   "metadata": {
    "tags": []
   },
   "outputs": [],
   "source": [
    "from googletrans import Translator\n",
    "standard_profiles_df = read_feather_file(standard_profiles_file)\n",
    "\n",
    "# Instantiate the translator\n",
    "translator = Translator()\n",
    "\n",
    "# Function to translate column names\n",
    "def translate_column_names(dataframe):\n",
    "    translations = {col: translator.translate(col, src='nl', dest='en').text for col in dataframe.columns}\n",
    "    dataframe.rename(columns=translations, inplace=True)\n",
    "    return dataframe\n",
    "\n",
    "\n",
    "# Now translate the column names from Dutch to English\n",
    "standard_profiles_df = translate_column_names(standard_profiles_df)\n",
    "customer_attributes_df = translate_column_names(customer_attributes_df)\n"
   ]
  },
  {
   "cell_type": "code",
   "execution_count": 58,
   "id": "18732a33-8730-4514-9512-d43f053714c3",
   "metadata": {
    "tags": []
   },
   "outputs": [
    {
     "name": "stdout",
     "output_type": "stream",
     "text": [
      "       Date of time        PROFILE     VALUE\n",
      "0  2023-10-06 07:30   KVKSEGMENT_7  0.000041\n",
      "1  2023-08-27 14:15   KVKSEGMENT_9  0.000019\n",
      "2  2023-02-25 18:00  KVKSEGMENT_18  0.000032\n",
      "3  2023-11-29 00:15  KVKSEGMENT_12  0.000019\n",
      "4  2023-04-26 17:45   KVKSEGMENT_7  0.000024\n"
     ]
    }
   ],
   "source": [
    "# Print the translated dataframe columns\n",
    "print(standard_profiles_df.head())"
   ]
  },
  {
   "cell_type": "code",
   "execution_count": 60,
   "id": "0c9a0c43-6542-4f4e-b7dd-e9c0223516ee",
   "metadata": {
    "tags": []
   },
   "outputs": [],
   "source": [
    "df = standard_profiles_df"
   ]
  },
  {
   "cell_type": "code",
   "execution_count": 61,
   "id": "2abdb328-2dcd-4aea-aa01-e4276b68a69f",
   "metadata": {
    "tags": []
   },
   "outputs": [
    {
     "name": "stdout",
     "output_type": "stream",
     "text": [
      "          PROFILE Date of time         VALUE\n",
      "0    KVKSEGMENT_1   2023-01-01      1.000000\n",
      "1   KVKSEGMENT_10   2023-01-01      1.000000\n",
      "2   KVKSEGMENT_11   2023-01-01      1.000000\n",
      "3   KVKSEGMENT_12   2023-01-01      1.000000\n",
      "4   KVKSEGMENT_13   2023-01-01      1.000000\n",
      "5   KVKSEGMENT_14   2023-01-01      1.000000\n",
      "6   KVKSEGMENT_15   2023-01-01      1.000000\n",
      "7   KVKSEGMENT_16   2023-01-01      1.000000\n",
      "8   KVKSEGMENT_17   2023-01-01      1.000000\n",
      "9   KVKSEGMENT_18   2023-01-01      1.000000\n",
      "10  KVKSEGMENT_19   2023-01-01      1.000000\n",
      "11   KVKSEGMENT_2   2023-01-01      1.000000\n",
      "12  KVKSEGMENT_20   2023-01-01      1.000000\n",
      "13   KVKSEGMENT_3   2023-01-01      1.000000\n",
      "14   KVKSEGMENT_4   2023-01-01      1.000000\n",
      "15   KVKSEGMENT_5   2023-01-01      1.000000\n",
      "16   KVKSEGMENT_6   2023-01-01      1.000000\n",
      "17   KVKSEGMENT_7   2023-01-01      1.000000\n",
      "18   KVKSEGMENT_8   2023-01-01      1.000000\n",
      "19   KVKSEGMENT_9   2023-01-01      1.000000\n",
      "20             PV   2023-01-01  -5235.721599\n",
      "21     WIND_KLEIN   2023-01-01 -10400.005322\n"
     ]
    }
   ],
   "source": [
    "# Convert 'Date of time' column to datetime format\n",
    "df['Date of time'] = pd.to_datetime(df['Date of time'])\n",
    "\n",
    "# Round the datetime to the nearest day\n",
    "df['Date of time'] = df['Date of time'].dt.to_period('Y').dt.to_timestamp()\n",
    "\n",
    "# Group by 'PROFILE' and sum the 'VALUE' column\n",
    "grouped_df = df.groupby(['PROFILE', 'Date of time']).sum().reset_index()\n",
    "\n",
    "print(grouped_df)"
   ]
  },
  {
   "cell_type": "markdown",
   "id": "35eadbac-3bbc-4610-ba91-07e55624008f",
   "metadata": {},
   "source": [
    "### KVK segments are the segments from the chamber of commerce"
   ]
  },
  {
   "cell_type": "code",
   "execution_count": 5,
   "id": "973b6964-3298-44ee-8c54-814f0ca39703",
   "metadata": {},
   "outputs": [
    {
     "name": "stdout",
     "output_type": "stream",
     "text": [
      "   Rnd_id Baseload_profile Connection category\n",
      "0    8423              010                AC4A\n",
      "1    6756              E3B                AC4B\n",
      "2    1077              008                AC4A\n",
      "3    8061              001                AC4B\n",
      "4   10575              008                AC4B\n"
     ]
    }
   ],
   "source": [
    "# Print the translated dataframe columns\n",
    "print(customer_attributes_df.head())"
   ]
  },
  {
   "cell_type": "code",
   "execution_count": 6,
   "id": "f26b04cd-8e8e-4ff3-b990-451d3027a2ba",
   "metadata": {},
   "outputs": [
    {
     "data": {
      "text/plain": [
       "array(['010', 'E3B', '008', '001', '013', 'PV', '004', 'E3A', 'E3C',\n",
       "       '014', '018', '002', '017', '006', 'E3D', '009', '012', '019',\n",
       "       '016', '007', '015', '020', '005', '011', 'WIND_KLEIN'],\n",
       "      dtype=object)"
      ]
     },
     "execution_count": 6,
     "metadata": {},
     "output_type": "execute_result"
    }
   ],
   "source": [
    "customer_attributes_df['Baseload_profile'].unique()"
   ]
  },
  {
   "cell_type": "code",
   "execution_count": 7,
   "id": "c96d34a9-a553-4528-b3df-9f2ba1cc7165",
   "metadata": {},
   "outputs": [
    {
     "name": "stdout",
     "output_type": "stream",
     "text": [
      "<class 'pandas.core.frame.DataFrame'>\n",
      "RangeIndex: 17102 entries, 0 to 17101\n",
      "Data columns (total 3 columns):\n",
      " #   Column               Non-Null Count  Dtype \n",
      "---  ------               --------------  ----- \n",
      " 0   Rnd_id               17102 non-null  int32 \n",
      " 1   Baseload_profile     17102 non-null  object\n",
      " 2   Connection category  17102 non-null  object\n",
      "dtypes: int32(1), object(2)\n",
      "memory usage: 334.2+ KB\n"
     ]
    }
   ],
   "source": [
    "customer_attributes_df.info()"
   ]
  }
 ],
 "metadata": {
  "kernelspec": {
   "display_name": "Python 3 (ipykernel)",
   "language": "python",
   "name": "python3"
  },
  "language_info": {
   "codemirror_mode": {
    "name": "ipython",
    "version": 3
   },
   "file_extension": ".py",
   "mimetype": "text/x-python",
   "name": "python",
   "nbconvert_exporter": "python",
   "pygments_lexer": "ipython3",
   "version": "3.11.5"
  }
 },
 "nbformat": 4,
 "nbformat_minor": 5
}
