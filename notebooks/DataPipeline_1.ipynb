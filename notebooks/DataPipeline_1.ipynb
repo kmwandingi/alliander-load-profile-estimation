{
 "cells": [
  {
   "cell_type": "code",
   "execution_count": 1,
   "id": "e4ca22fc",
   "metadata": {},
   "outputs": [],
   "source": [
    "from sklearn.preprocessing import MinMaxScaler\n",
    "from datetime import datetime, timedelta\n",
    "from workalendar.europe import Netherlands\n",
    "import gc\n",
    "import random\n",
    "import pandas as pd\n",
    "import sys\n",
    "import numpy as np"
   ]
  },
  {
   "cell_type": "code",
   "execution_count": null,
   "id": "2ed580c8",
   "metadata": {},
   "outputs": [],
   "source": [
    "# Function to reshape the data\n",
    "def reshape_data(df):\n",
    "    melted_df = df.melt(id_vars=['RND_ID', 'BASELOAD_PROFILE', 'CONNECTION_CATEGORY'], var_name='Timestamp', value_name='Consumption')\n",
    "    melted_df['Timestamp'] = pd.to_datetime(melted_df['Timestamp'])\n",
    "    melted_df = melted_df[melted_df['Consumption'] > 0]\n",
    "    return melted_df\n",
    "\n",
    "# Function to add time-based features and calculate monthly statistics\n",
    "def add_time_features(df):\n",
    "    df['hour'] = df['Timestamp'].dt.hour\n",
    "    df['day_of_week'] = df['Timestamp'].dt.dayofweek\n",
    "    df['month'] = df['Timestamp'].dt.month\n",
    "    df['is_weekend'] = df['day_of_week'] >= 5\n",
    "\n",
    "    monthly_total = df.groupby(['RND_ID', 'month'])['Consumption'].sum().reset_index()\n",
    "    monthly_avg = df.groupby(['RND_ID', 'month'])['Consumption'].mean().reset_index()\n",
    "\n",
    "    df = pd.merge(df, monthly_total, on=['RND_ID', 'month'], suffixes=('', '_monthly_total'))\n",
    "    df = pd.merge(df, monthly_avg, on=['RND_ID', 'month'], suffixes=('', '_monthly_avg'))\n",
    "    return df\n",
    "\n",
    "# Function to normalize the data using Min-Max Scaler\n",
    "def normalize_data(df):\n",
    "    scaler = MinMaxScaler()\n",
    "    df[['Consumption', 'Consumption_monthly_total', 'Consumption_monthly_avg']] = scaler.fit_transform(df[['Consumption', 'Consumption_monthly_total', 'Consumption_monthly_avg']])\n",
    "    return df\n",
    "\n",
    "# Function to calculate rolling window features\n",
    "def rolling_window(df, window_size=4):\n",
    "    df['Consumption_rolling_mean'] = df.groupby('RND_ID')['Consumption'].rolling(window=window_size).mean().reset_index(level=0, drop=True)\n",
    "    #df['Consumption_rolling_median'] = df.groupby('RND_ID')['Consumption'].rolling(window=window_size).median().reset_index(level=0, drop=True)\n",
    "    #df['Consumption_rolling_std'] = df.groupby('RND_ID')['Consumption'].rolling(window=window_size).std().reset_index(level=0, drop=True)\n",
    "    return df\n",
    "\n",
    "# Function to combine all steps into a pipeline and select first 100 customers\n",
    "def data_pipeline(df, num_customers=100):\n",
    "    df = reshape_data(df)\n",
    "    first_100_customers = df['RND_ID'].unique()[:num_customers]\n",
    "    df = df[df['RND_ID'].isin(first_100_customers)]\n",
    "    df = add_time_features(df)\n",
    "    df = normalize_data(df)\n",
    "    df = rolling_window(df)\n",
    "    return df\n",
    "\n",
    "# Example usage with your original DataFrame\n",
    "df = pd.read_csv('merged_dfs.csv')  # Replace with your actual data file\n",
    "processed_data = data_pipeline(df, num_customers=100)\n",
    "print(processed_data.head(10))"
   ]
  }
 ],
 "metadata": {
  "kernelspec": {
   "display_name": "Python 3 (ipykernel)",
   "language": "python",
   "name": "python3"
  },
  "language_info": {
   "codemirror_mode": {
    "name": "ipython",
    "version": 3
   },
   "file_extension": ".py",
   "mimetype": "text/x-python",
   "name": "python",
   "nbconvert_exporter": "python",
   "pygments_lexer": "ipython3",
   "version": "3.11.5"
  }
 },
 "nbformat": 4,
 "nbformat_minor": 5
}
